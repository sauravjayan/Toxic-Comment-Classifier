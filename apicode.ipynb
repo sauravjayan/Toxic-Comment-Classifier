{
 "cells": [
  {
   "cell_type": "code",
   "execution_count": 1,
   "id": "champion-portable",
   "metadata": {},
   "outputs": [],
   "source": [
    "import numpy as np\n",
    "from flask import Flask, request, jsonify\n",
    "import pickle\n",
    "import os\n",
    "import pandas as pd\n",
    "from scipy.sparse import hstack\n",
    "from flask import render_template\n",
    "from flask import redirect, url_for"
   ]
  },
  {
   "cell_type": "code",
   "execution_count": 2,
   "id": "friendly-checkout",
   "metadata": {},
   "outputs": [
    {
     "data": {
      "text/plain": [
       "'/Users/sauravjayan/Desktop/toxic-comment-classification'"
      ]
     },
     "execution_count": 2,
     "metadata": {},
     "output_type": "execute_result"
    }
   ],
   "source": [
    "os.getcwd()"
   ]
  },
  {
   "cell_type": "code",
   "execution_count": 3,
   "id": "expired-obligation",
   "metadata": {},
   "outputs": [
    {
     "name": "stderr",
     "output_type": "stream",
     "text": [
      "/Users/sauravjayan/opt/anaconda3/lib/python3.7/site-packages/sklearn/base.py:318: UserWarning: Trying to unpickle estimator LogisticRegression from version 0.24.1 when using version 0.22.1. This might lead to breaking code or invalid results. Use at your own risk.\n",
      "  UserWarning)\n"
     ]
    }
   ],
   "source": [
    "app = Flask(__name__)\n",
    "model = pickle.load(open('Saurav/lr_models.sav','rb'))"
   ]
  },
  {
   "cell_type": "code",
   "execution_count": 4,
   "id": "cultural-legislation",
   "metadata": {},
   "outputs": [],
   "source": [
    "@app.route('/api',methods=['POST'])\n",
    "def predict():\n",
    "    data = request.get_json(force=True)\n",
    "    prediction = model.predict([[np.array(data['exp'])]])\n",
    "    output = prediction[0]\n",
    "    return jsonify(output)"
   ]
  },
  {
   "cell_type": "code",
   "execution_count": 5,
   "id": "activated-sigma",
   "metadata": {},
   "outputs": [],
   "source": [
    "def requestResults(name):\n",
    "    df = pd.DataFrame({'text':[name]})\n",
    "    df = df['text']\n",
    "#     print(df)\n",
    "    word_vectorizer = pickle.load(open('Saurav/word_vectorizer.pkl','rb'))\n",
    "    char_vectorizer = pickle.load(open('Saurav/char_vectorizer.pkl','rb'))\n",
    "    test_word_features = word_vectorizer.transform(df)\n",
    "    test_char_features = char_vectorizer.transform(df)\n",
    "    test_features = hstack([test_char_features, test_word_features])\n",
    "#     print(test_features)\n",
    "    \n",
    "    classifers = pickle.load(open('Saurav/lr_models.sav','rb'))\n",
    "    y_test_toxic = classifers['toxic'].predict(test_features)\n",
    "    y_test_severe_toxic = classifers['severe_toxic'].predict(test_features)\n",
    "    y_test_obscene = classifers['obscene'].predict(test_features)\n",
    "    y_test_threat = classifers['threat'].predict(test_features)\n",
    "    y_test_insult = classifers['insult'].predict(test_features)\n",
    "    y_test_identity_hate = classifers['identity_hate'].predict(test_features)\n",
    "    return {'toxic':y_test_toxic,\n",
    "           'sever_toxic': y_test_severe_toxic,\n",
    "           'obscene':y_test_obscene,\n",
    "           'threat':y_test_threat,\n",
    "           'insult': y_test_insult,\n",
    "           'identity_hate': y_test_identity_hate}\n",
    "        "
   ]
  },
  {
   "cell_type": "code",
   "execution_count": 6,
   "id": "coral-somalia",
   "metadata": {},
   "outputs": [],
   "source": [
    "# start flask\n",
    "app = Flask(__name__)\n",
    "\n",
    "# render default webpage\n",
    "@app.route('/')\n",
    "def home():\n",
    "    return render_template('home.html')\n",
    "\n",
    "# when the post method detect, then redirect to success function\n",
    "@app.route('/', methods=['POST', 'GET'])\n",
    "def get_data():\n",
    "    if request.method == 'POST':\n",
    "        user = request.form['search']\n",
    "        return redirect(url_for('success', name=user))\n",
    "\n",
    "# get the data for the requested query\n",
    "@app.route('/success/<name>')\n",
    "def success(name):\n",
    "    results = []\n",
    "\n",
    "    d = requestResults(name)\n",
    "    \n",
    "    for key,value in d.items():\n",
    "        if value[0] == 1:\n",
    "            results.append(key)\n",
    "            \n",
    "    for i,label in enumerate(results):\n",
    "        if label =='sever_toxic':\n",
    "            results[i] = 'severely toxic'\n",
    "        if label =='threat':\n",
    "            results[i] = 'threatening' \n",
    "        if label =='insult':\n",
    "            results[i] = 'insulting'\n",
    "        if label =='identity_hate':\n",
    "            results[i] = 'related to identity hate' \n",
    "        \n",
    "            \n",
    "    label_str = ''\n",
    "    clean = True\n",
    "    if len(results) != 0:\n",
    "        for i,label in enumerate(results):\n",
    "            if label != 'clean':\n",
    "                if i != (len(results)-1):\n",
    "                    label_str = label_str + ' ' + str(label) + ','\n",
    "                else:\n",
    "                    label_str = label_str + \" \" + 'and ' + str(label) + '.'\n",
    "                clean=False\n",
    "    else:\n",
    "        label_str = ' clean.'\n",
    "    \n",
    "    if not clean:\n",
    "        path='/images/giphy.gif'    \n",
    "        image_file = url_for('static', filename=path)\n",
    "    else:\n",
    "        path='/images/goodjob.gif'    \n",
    "        image_file = url_for('static', filename=path)\n",
    "            \n",
    "    return render_template('results.html',label=label_str, clean=clean, pic=image_file)"
   ]
  },
  {
   "cell_type": "code",
   "execution_count": 7,
   "id": "focused-investigator",
   "metadata": {},
   "outputs": [
    {
     "name": "stdout",
     "output_type": "stream",
     "text": [
      " * Serving Flask app \"__main__\" (lazy loading)\n",
      " * Environment: production\n",
      "   WARNING: This is a development server. Do not use it in a production deployment.\n",
      "   Use a production WSGI server instead.\n",
      " * Debug mode: off\n"
     ]
    },
    {
     "name": "stderr",
     "output_type": "stream",
     "text": [
      " * Running on http://127.0.0.1:5000/ (Press CTRL+C to quit)\n",
      "127.0.0.1 - - [12/Mar/2021 11:44:20] \"\u001b[37mGET / HTTP/1.1\u001b[0m\" 200 -\n",
      "127.0.0.1 - - [12/Mar/2021 11:44:32] \"\u001b[32mPOST / HTTP/1.1\u001b[0m\" 302 -\n",
      "/Users/sauravjayan/opt/anaconda3/lib/python3.7/site-packages/sklearn/base.py:318: UserWarning: Trying to unpickle estimator TfidfTransformer from version 0.24.1 when using version 0.22.1. This might lead to breaking code or invalid results. Use at your own risk.\n",
      "  UserWarning)\n",
      "/Users/sauravjayan/opt/anaconda3/lib/python3.7/site-packages/sklearn/base.py:318: UserWarning: Trying to unpickle estimator TfidfVectorizer from version 0.24.1 when using version 0.22.1. This might lead to breaking code or invalid results. Use at your own risk.\n",
      "  UserWarning)\n",
      "/Users/sauravjayan/opt/anaconda3/lib/python3.7/site-packages/sklearn/base.py:318: UserWarning: Trying to unpickle estimator LogisticRegression from version 0.24.1 when using version 0.22.1. This might lead to breaking code or invalid results. Use at your own risk.\n",
      "  UserWarning)\n",
      "127.0.0.1 - - [12/Mar/2021 11:44:38] \"\u001b[37mGET /success/i%20like%20you HTTP/1.1\u001b[0m\" 200 -\n",
      "127.0.0.1 - - [12/Mar/2021 11:44:59] \"\u001b[32mPOST / HTTP/1.1\u001b[0m\" 302 -\n",
      "/Users/sauravjayan/opt/anaconda3/lib/python3.7/site-packages/sklearn/base.py:318: UserWarning: Trying to unpickle estimator TfidfTransformer from version 0.24.1 when using version 0.22.1. This might lead to breaking code or invalid results. Use at your own risk.\n",
      "  UserWarning)\n",
      "/Users/sauravjayan/opt/anaconda3/lib/python3.7/site-packages/sklearn/base.py:318: UserWarning: Trying to unpickle estimator TfidfVectorizer from version 0.24.1 when using version 0.22.1. This might lead to breaking code or invalid results. Use at your own risk.\n",
      "  UserWarning)\n",
      "/Users/sauravjayan/opt/anaconda3/lib/python3.7/site-packages/sklearn/base.py:318: UserWarning: Trying to unpickle estimator LogisticRegression from version 0.24.1 when using version 0.22.1. This might lead to breaking code or invalid results. Use at your own risk.\n",
      "  UserWarning)\n",
      "127.0.0.1 - - [12/Mar/2021 11:45:05] \"\u001b[37mGET /success/you%20bastard HTTP/1.1\u001b[0m\" 200 -\n"
     ]
    }
   ],
   "source": [
    "app.run(debug=False)"
   ]
  },
  {
   "cell_type": "code",
   "execution_count": null,
   "id": "cardiac-category",
   "metadata": {},
   "outputs": [],
   "source": []
  }
 ],
 "metadata": {
  "kernelspec": {
   "display_name": "Python 3",
   "language": "python",
   "name": "python3"
  },
  "language_info": {
   "codemirror_mode": {
    "name": "ipython",
    "version": 3
   },
   "file_extension": ".py",
   "mimetype": "text/x-python",
   "name": "python",
   "nbconvert_exporter": "python",
   "pygments_lexer": "ipython3",
   "version": "3.7.6"
  }
 },
 "nbformat": 4,
 "nbformat_minor": 5
}
